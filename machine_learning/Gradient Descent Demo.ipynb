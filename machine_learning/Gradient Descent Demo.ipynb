{
 "cells": [
  {
   "cell_type": "code",
   "execution_count": 3,
   "metadata": {},
   "outputs": [],
   "source": [
    "import numpy as np\n",
    "import matplotlib.pyplot as plt"
   ]
  },
  {
   "cell_type": "code",
   "execution_count": 35,
   "metadata": {},
   "outputs": [
    {
     "name": "stdout",
     "output_type": "stream",
     "text": [
      "2.6699999999998365\n",
      "-188.60000000000065\n"
     ]
    }
   ],
   "source": [
    "x_data = [338., 333., 328., 207., 226., 25., 179., 60., 208., 606.]\n",
    "y_data = [640., 633., 619., 393., 428., 27., 193., 66., 226.,1591.,]\n",
    "# ydata = b + w * xdata\n",
    "\n",
    "'''\n",
    "先用遍历所有参数空间的方法找到使loss最小的参数值\n",
    "'''\n",
    "x = np.arange(-200, -100, 0.1) # bias\n",
    "y = np.arange(-5, 5, 0.01) # weight\n",
    "z = np.zeros((len(x), len(y)))\n",
    "X, Y = np.meshgrid(x, y) # meshgrid:将向量转化为坐标矩阵\n",
    "\n",
    "for i in range(len(x)):\n",
    "    for j in range(len(y)): # 遍历整个坐标空间\n",
    "        b = x[i]\n",
    "        w = y[j]\n",
    "        z[j][i] = 0\n",
    "        for n in range(len(x_data)):\n",
    "            # 求出该w，b处所有测试data的loss和\n",
    "            z[j][i] = z[j][i] + (y_data[n] - b - w*x_data[n])**2 \n",
    "        # 求出平均loss值\n",
    "        z[j][i] = z[j][i] / len(x_data)\n",
    "index_min = np.argwhere(z == np.min(z))\n",
    "print(y[index_min[0][0]])\n",
    "print(x[index_min[0][1]])"
   ]
  },
  {
   "cell_type": "code",
   "execution_count": 12,
   "metadata": {},
   "outputs": [
    {
     "data": {
      "image/png": "[encoded data removed]",
      "text/plain": [
       "<matplotlib.figure.Figure at 0x16faa7d77f0>"
      ]
     },
     "metadata": {},
     "output_type": "display_data"
    }
   ],
   "source": [
    "'''\n",
    "用梯度下降法找使得loss最小的参数值\n",
    "'''\n",
    "b = -120 # initial bias\n",
    "w = -4 # initial weight\n",
    "lr = 0.0000001 # learning rate\n",
    "interation = 100000\n",
    "\n",
    "# store initial valuses for plotting\n",
    "b_history = [b]\n",
    "w_history = [w]\n",
    "\n",
    "# 迭代\n",
    "for i in range(interation):\n",
    "    b_grad = 0.0\n",
    "    w_grad = 0.0\n",
    "    for n in range(len(x_data)):\n",
    "        # 将所有测试数据产生的梯度求和\n",
    "        b_grad = b_grad + 2.0 * (y_data[n] - b - w*x_data[n]) * (-1.0)\n",
    "        w_grad = w_grad + 2.0 * (y_data[n] - b - w*x_data[n]) * (-x_data[n])\n",
    "    # 更新参数 w b\n",
    "    b = b - lr * b_grad\n",
    "    w = w - lr * w_grad\n",
    "    \n",
    "    # store parameters for plotting\n",
    "    b_history.append(b)\n",
    "    w_history.append(w)\n",
    "    \n",
    "# 画图\n",
    "plt.contourf(x, y, z, 50, alpha=0.5, cmap=plt.get_cmap('jet'))\n",
    "plt.plot([-196], [2.7], \"x\", ms=12,  markeredgewidth=3, color='orange')\n",
    "plt.plot(b_history, w_history, 'o-', ms=3, lw=1.5, color='black')\n",
    "plt.xlim(-200, -100)\n",
    "plt.ylim(-5, 5)\n",
    "plt.xlabel(r'$b$', fontsize=16)\n",
    "plt.ylabel(r'$w$', fontsize=16)\n",
    "plt.show()"
   ]
  },
  {
   "cell_type": "code",
   "execution_count": 18,
   "metadata": {},
   "outputs": [
    {
     "data": {
      "image/png": "[encoded data removed]",
      "text/plain": [
       "<matplotlib.figure.Figure at 0x16faac7a780>"
      ]
     },
     "metadata": {},
     "output_type": "display_data"
    }
   ],
   "source": [
    "'''\n",
    "对w和b使用不同的learning rate, 简单法\n",
    "'''\n",
    "b = -120 # initial bias\n",
    "w = -4 # initial weight\n",
    "lr = 0.1 # learning rate\n",
    "interation = 100000\n",
    "\n",
    "# store initial valuses for plotting\n",
    "b_history = [b]\n",
    "w_history = [w]\n",
    "\n",
    "# 迭代\n",
    "for i in range(interation):\n",
    "    b_grad = 0.0\n",
    "    w_grad = 0.0\n",
    "    for n in range(len(x_data)):\n",
    "        # 将所有测试数据产生的梯度求和\n",
    "        b_grad = b_grad + 2.0 * (y_data[n] - b - w*x_data[n]) * (-1.0)\n",
    "        w_grad = w_grad + 2.0 * (y_data[n] - b - w*x_data[n]) * (-x_data[n])\n",
    "    \n",
    "    lr_b = 0.0001\n",
    "    lr_w = 0.000001\n",
    "    # 更新参数 w b\n",
    "    b = b - lr_b * b_grad\n",
    "    w = w - lr_w * w_grad\n",
    "    \n",
    "    # store parameters for plotting\n",
    "    b_history.append(b)\n",
    "    w_history.append(w)\n",
    "    \n",
    "# 画图\n",
    "plt.contourf(x, y, z, 50, alpha=0.5, cmap=plt.get_cmap('jet'))\n",
    "# 前面遍历的时候精度为[1, 0.1] 时无法得到最优解\n",
    "plt.plot([-196], [2.7], \"x\", ms=12,  markeredgewidth=3, color='orange')\n",
    "plt.plot(b_history, w_history, 'o-', ms=3, lw=1.5, color='black')\n",
    "plt.xlim(-200, -100)\n",
    "plt.ylim(-5, 5)\n",
    "plt.xlabel(r'$b$', fontsize=16)\n",
    "plt.ylabel(r'$w$', fontsize=16)\n",
    "plt.show()"
   ]
  },
  {
   "cell_type": "code",
   "execution_count": 36,
   "metadata": {},
   "outputs": [
    {
     "data": {
      "image/png": "[encoded data removed]",
      "text/plain": [
       "<matplotlib.figure.Figure at 0x16fb37619b0>"
      ]
     },
     "metadata": {},
     "output_type": "display_data"
    }
   ],
   "source": [
    "'''\n",
    "对w和b使用不同的learning rate， ada法\n",
    "'''\n",
    "b = -120 # initial bias\n",
    "w = -4 # initial weight\n",
    "lr = 4 # learning rate\n",
    "interation = 100000\n",
    "\n",
    "# store initial valuses for plotting\n",
    "b_history = [b]\n",
    "w_history = [w]\n",
    "lr_b = 0.0\n",
    "lr_w = 0.0\n",
    "# 迭代\n",
    "for i in range(interation):\n",
    "    b_grad = 0.0\n",
    "    w_grad = 0.0\n",
    "    for n in range(len(x_data)):\n",
    "        # 将所有测试数据产生的梯度求和\n",
    "        b_grad = b_grad + 2.0 * (y_data[n] - b - w*x_data[n]) * (-1.0)\n",
    "        w_grad = w_grad + 2.0 * (y_data[n] - b - w*x_data[n]) * (-x_data[n])\n",
    "    \n",
    "\n",
    "    lr_b = lr_b + b_grad ** 2 # 势能累积\n",
    "    lr_w = lr_w + w_grad ** 2\n",
    "    # 更新参数 w b\n",
    "    b = b - lr/np.sqrt(lr_b) * b_grad\n",
    "    w = w - lr/np.sqrt(lr_w) * w_grad\n",
    "    \n",
    "    # store parameters for plotting\n",
    "    b_history.append(b)\n",
    "    w_history.append(w)\n",
    "    \n",
    "# 画图\n",
    "plt.contourf(x, y, z, 50, alpha=0.5, cmap=plt.get_cmap('jet'))\n",
    "plt.plot([-188.6], [2.67], \"x\", ms=12,  markeredgewidth=3, color='orange')\n",
    "plt.plot(b_history, w_history, 'o-', ms=3, lw=1.5, color='black')\n",
    "plt.xlim(-200, -100)\n",
    "plt.ylim(-5, 5)\n",
    "plt.xlabel(r'$b$', fontsize=16)\n",
    "plt.ylabel(r'$w$', fontsize=16)\n",
    "plt.show()"
   ]
  },
  {
   "cell_type": "code",
   "execution_count": null,
   "metadata": {},
   "outputs": [],
   "source": []
  }
 ],
 "metadata": {
  "kernelspec": {
   "display_name": "Python 3",
   "language": "python",
   "name": "python3"
  },
  "language_info": {
   "codemirror_mode": {
    "name": "ipython",
    "version": 3
   },
   "file_extension": ".py",
   "mimetype": "text/x-python",
   "name": "python",
   "nbconvert_exporter": "python",
   "pygments_lexer": "ipython3",
   "version": "3.6.4"
  }
 },
 "nbformat": 4,
 "nbformat_minor": 2
}
