{
 "cells": [
  {
   "cell_type": "code",
   "execution_count": 1,
   "metadata": {},
   "outputs": [
    {
     "name": "stderr",
     "output_type": "stream",
     "text": [
      "C:\\ProgramData\\Anaconda3\\lib\\site-packages\\h5py\\__init__.py:36: FutureWarning: Conversion of the second argument of issubdtype from `float` to `np.floating` is deprecated. In future, it will be treated as `np.float64 == np.dtype(float).type`.\n",
      "  from ._conv import register_converters as _register_converters\n"
     ]
    }
   ],
   "source": [
    "import tensorflow as tf"
   ]
  },
  {
   "cell_type": "code",
   "execution_count": 3,
   "metadata": {},
   "outputs": [
    {
     "name": "stdout",
     "output_type": "stream",
     "text": [
      "Tensor(\"MatMul:0\", shape=(1, 1), dtype=int32)\n"
     ]
    }
   ],
   "source": [
    "m1 = tf.constant([[2, 3]])\n",
    "m2 = tf.constant([[1],\n",
    "                  [3]])\n",
    "res = tf.matmul(m1, m2)\n",
    "print(res)"
   ]
  },
  {
   "cell_type": "code",
   "execution_count": 4,
   "metadata": {},
   "outputs": [],
   "source": [
    "sess = tf.Session()\n",
    "result = sess.run(res)"
   ]
  },
  {
   "cell_type": "code",
   "execution_count": 5,
   "metadata": {},
   "outputs": [
    {
     "name": "stdout",
     "output_type": "stream",
     "text": [
      "[[11]]\n"
     ]
    }
   ],
   "source": [
    "print(result)"
   ]
  },
  {
   "cell_type": "code",
   "execution_count": 7,
   "metadata": {},
   "outputs": [],
   "source": [
    "sess.close()"
   ]
  },
  {
   "cell_type": "code",
   "execution_count": 13,
   "metadata": {
    "scrolled": true
   },
   "outputs": [
    {
     "name": "stdout",
     "output_type": "stream",
     "text": [
      "[-1 -1]\n",
      "[0 1]\n"
     ]
    }
   ],
   "source": [
    "# 变量的使用，变量在使用前需要初始化\n",
    "x = tf.Variable([1, 2])\n",
    "y = tf.Variable([2, 3])\n",
    "sub = tf.subtract(x, y)\n",
    "add = tf.add(x, sub)\n",
    "init = tf.global_variables_initializer() # 使用初始化全局变量的操作，此操作同样需要放在session运行才生效\n",
    "with tf.Session() as sess:\n",
    "    sess.run(init)\n",
    "    print(sess.run(sub))\n",
    "    print(sess.run(add))"
   ]
  },
  {
   "cell_type": "code",
   "execution_count": 14,
   "metadata": {},
   "outputs": [
    {
     "name": "stdout",
     "output_type": "stream",
     "text": [
      "0\n",
      "1\n",
      "2\n",
      "3\n",
      "4\n",
      "5\n"
     ]
    }
   ],
   "source": [
    "# 创建一个变量， 初始化为0\n",
    "state = tf.Variable(0, name='counter')\n",
    "new_value = tf.add(state, 1)\n",
    "update = tf.assign(state, new_value) # 赋值，此处等价于 state = new_value\n",
    "# 初始化变量\n",
    "init = tf.global_variables_initializer()\n",
    "with tf.Session() as sess:\n",
    "    sess.run(init)\n",
    "    print(sess.run(state))\n",
    "    for _ in range(5):\n",
    "        sess.run(update)\n",
    "        print(state.eval())"
   ]
  },
  {
   "cell_type": "code",
   "execution_count": 15,
   "metadata": {},
   "outputs": [
    {
     "name": "stdout",
     "output_type": "stream",
     "text": [
      "[7.0, 21.0]\n"
     ]
    }
   ],
   "source": [
    "# Fetch and Feed \n",
    "var1 = tf.constant(3.0)\n",
    "var2 = tf.constant(2.0)\n",
    "var3 = tf.constant(5.0)\n",
    "add = tf.add(var2, var3)\n",
    "mul = tf.multiply(var1, add)\n",
    "with tf.Session() as sess:\n",
    "    result = sess.run([add, mul]) #Fetch是指在一个session中可以同时运行多个OP\n",
    "    print(result)"
   ]
  },
  {
   "cell_type": "code",
   "execution_count": 19,
   "metadata": {},
   "outputs": [
    {
     "name": "stdout",
     "output_type": "stream",
     "text": [
      "[[17.]]\n"
     ]
    }
   ],
   "source": [
    "# Feed 在计算启动且必要时再赋值\n",
    "var1 = tf.placeholder(tf.float32) #占位符\n",
    "var2 = tf.placeholder(tf.float32)\n",
    "output = tf.matmul(var1, var2)\n",
    "\n",
    "with tf.Session() as sess:\n",
    "    print(sess.run(output, feed_dict={var1:[[7.0, 1.0]], var2:[[2.0],\n",
    "                                                            [3.0]]}))"
   ]
  },
  {
   "cell_type": "code",
   "execution_count": 27,
   "metadata": {},
   "outputs": [
    {
     "name": "stdout",
     "output_type": "stream",
     "text": [
      "0.2785499088983461 0.14516875 0.05630205 0.10094354\n",
      "0.2785499088983461 0.27973068 0.10525934 0.19704956\n",
      "0.2785499088983461 0.27923775 0.10306351 0.19828144\n",
      "0.2785499088983461 0.27895057 0.10178445 0.19899896\n",
      "0.2785499088983461 0.2787833 0.10103943 0.1994169\n",
      "0.2785499088983461 0.27868584 0.10060545 0.19966035\n",
      "0.2785499088983461 0.2786291 0.10035266 0.19980216\n",
      "0.2785499088983461 0.27859604 0.10020542 0.19988477\n",
      "0.2785499088983461 0.2785768 0.10011966 0.19993287\n",
      "0.2785499088983461 0.27856556 0.1000697 0.1999609\n",
      "0.2785499088983461 0.27855903 0.10004061 0.19997722\n",
      "0.2785499088983461 0.2785552 0.10002365 0.19998673\n",
      "0.2785499088983461 0.278553 0.10001378 0.19999227\n",
      "0.2785499088983461 0.2785517 0.10000801 0.1999955\n",
      "0.2785499088983461 0.27855095 0.100004666 0.19999738\n",
      "0.2785499088983461 0.27855054 0.100002736 0.19999847\n"
     ]
    }
   ],
   "source": [
    "# a simple demo\n",
    "import numpy as np\n",
    "# 使用np生成100个随机点\n",
    "x_data = np.random.rand(100)\n",
    "y_data = x_data*0.1 + 0.2\n",
    "\n",
    "# 构造线性模型\n",
    "b = tf.Variable(0.)\n",
    "w = tf.Variable(0.)\n",
    "y = w*x_data + b\n",
    "\n",
    "# 二次代价函数\n",
    "loss = tf.reduce_mean(tf.square(y_data-y))\n",
    "# 定义一个梯度下降优化器\n",
    "optm = tf.train.GradientDescentOptimizer(0.2)\n",
    "# 定义一个训练，目的是最小化loss\n",
    "train = optm.minimize(loss)\n",
    "# 初始化变量\n",
    "init = tf.global_variables_initializer()\n",
    "# 创建会话，运行计算图\n",
    "with tf.Session() as sess:\n",
    "    sess.run(init)\n",
    "    for _ in range(301):\n",
    "        sess.run(train) #每次训练都run一次train。每次train会改变变量w和b，使得loss最小\n",
    "        if _%20 == 0:\n",
    "            print(y_data[1], y.eval()[1], w.eval(), b.eval())"
   ]
  },
  {
   "cell_type": "code",
   "execution_count": null,
   "metadata": {},
   "outputs": [],
   "source": [
    "tf.reshape()"
   ]
  }
 ],
 "metadata": {
  "kernelspec": {
   "display_name": "Python 3",
   "language": "python",
   "name": "python3"
  },
  "language_info": {
   "codemirror_mode": {
    "name": "ipython",
    "version": 3
   },
   "file_extension": ".py",
   "mimetype": "text/x-python",
   "name": "python",
   "nbconvert_exporter": "python",
   "pygments_lexer": "ipython3",
   "version": "3.6.4"
  }
 },
 "nbformat": 4,
 "nbformat_minor": 2
}
