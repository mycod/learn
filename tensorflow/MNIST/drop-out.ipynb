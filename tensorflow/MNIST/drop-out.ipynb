{
 "cells": [
  {
   "cell_type": "code",
   "execution_count": null,
   "metadata": {},
   "outputs": [
    {
     "name": "stdout",
     "output_type": "stream",
     "text": [
      "Extracting mnist_data\\train-images-idx3-ubyte.gz\n",
      "Extracting mnist_data\\train-labels-idx1-ubyte.gz\n",
      "Extracting mnist_data\\t10k-images-idx3-ubyte.gz\n",
      "Extracting mnist_data\\t10k-labels-idx1-ubyte.gz\n",
      "step:  0 accuracy:  0.9258\n",
      "step:  1 accuracy:  0.9297\n",
      "step:  2 accuracy:  0.9302\n",
      "step:  3 accuracy:  0.9304\n",
      "step:  4 accuracy:  0.9305\n"
     ]
    }
   ],
   "source": [
    "import tensorflow as tf\n",
    "from tensorflow.examples.tutorials.mnist import input_data\n",
    "# 载入数据集\n",
    "mnist = input_data.read_data_sets('mnist_data', one_hot=True)\n",
    "# 定义批次的数量\n",
    "batch_size = 50\n",
    "# 计算一共有多少个批次\n",
    "batch_num = mnist.train.num_examples\n",
    "# 定义两个placeholder\n",
    "x = tf.placeholder(tf.float32, [None, 784]) # 输入矩阵\n",
    "y = tf.placeholder(tf.float32, [None, 10]) # 分类标签\n",
    "\n",
    "# 创建一个简单的神经网络\n",
    "wight = tf.Variable(tf.zeros([784, 10]))\n",
    "bias = tf.Variable(tf.zeros([10]))\n",
    "predict = tf.nn.softmax(tf.matmul(x, wight)+bias)\n",
    "\n",
    "# 损失函数\n",
    "loss = tf.reduce_mean(tf.square(y-predict))\n",
    "# 使用梯度下降训练\n",
    "train = tf.train.GradientDescentOptimizer(0.2).minimize(loss)\n",
    "tf.train.\n",
    "# 定义求准确率的方法\n",
    "correct_predict = tf.equal(tf.argmax(y, 1), tf.argmax(predict, 1))\n",
    "accuracy = tf.reduce_mean(tf.cast(correct_predict, tf.float32))\n",
    "# 开始训练\n",
    "with tf.Session() as sess:\n",
    "    # 初始化变量\n",
    "    sess.run(tf.global_variables_initializer())\n",
    "    # 训练N次\n",
    "    for step in range(21):\n",
    "        # 分批执行\n",
    "        for batch in range(batch_num):\n",
    "            batch_x, batch_y = mnist.train.next_batch(batch_size)\n",
    "            sess.run(train, feed_dict={x:batch_x, y:batch_y})\n",
    "        # 计算准确率，即用已经训练好的模型去测试测试集的样本。看准确率如何\n",
    "        acc_rate = sess.run(accuracy, feed_dict={x:mnist.test.images, y:mnist.test.labels})\n",
    "        print('step: ',step, 'accuracy: ', acc_rate)"
   ]
  },
  {
   "cell_type": "code",
   "execution_count": null,
   "metadata": {},
   "outputs": [],
   "source": []
  }
 ],
 "metadata": {
  "kernelspec": {
   "display_name": "Python 3",
   "language": "python",
   "name": "python3"
  },
  "language_info": {
   "codemirror_mode": {
    "name": "ipython",
    "version": 3
   },
   "file_extension": ".py",
   "mimetype": "text/x-python",
   "name": "python",
   "nbconvert_exporter": "python",
   "pygments_lexer": "ipython3",
   "version": "3.6.4"
  }
 },
 "nbformat": 4,
 "nbformat_minor": 2
}
